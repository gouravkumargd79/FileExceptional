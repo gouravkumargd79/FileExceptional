{
  "nbformat": 4,
  "nbformat_minor": 0,
  "metadata": {
    "colab": {
      "provenance": [],
      "authorship_tag": "ABX9TyPYLw0CbyTJbslhp3eXsHzR",
      "include_colab_link": true
    },
    "kernelspec": {
      "name": "python3",
      "display_name": "Python 3"
    },
    "language_info": {
      "name": "python"
    }
  },
  "cells": [
    {
      "cell_type": "markdown",
      "metadata": {
        "id": "view-in-github",
        "colab_type": "text"
      },
      "source": [
        "<a href=\"https://colab.research.google.com/github/gouravkumargd79/FileExceptional/blob/main/File%26Exceptional_Handling.ipynb\" target=\"_parent\"><img src=\"https://colab.research.google.com/assets/colab-badge.svg\" alt=\"Open In Colab\"/></a>"
      ]
    },
    {
      "cell_type": "code",
      "execution_count": null,
      "metadata": {
        "id": "yPuU1c2fjbAj"
      },
      "outputs": [],
      "source": [
        "# Q1. Discuss the scenarios where multithreading is preferable to multiprocessing and scenarios where multiprocessing is a better choice.\n",
        "\n",
        "''' Multithreading:\n",
        "\n",
        "I/O-bound tasks: When a program spends a lot of time waiting for input/output (e.g., network calls, file I/O, database queries), multithreading is a good choice. This is because threads can run concurrently, allowing other threads to continue while one thread waits for I/O operations to complete.\n",
        "Shared memory: Since threads share the same memory space, they can easily share data between them, making it ideal for applications that need to operate on shared data.\n",
        "Lightweight: Threads are generally more lightweight than processes, so they can be created and managed with less overhead.\n",
        "\n",
        "Multiprocessing:\n",
        "\n",
        "CPU-bound tasks: When a program needs to perform heavy computations or uses CPU-intensive operations, multiprocessing is more appropriate. Each process runs independently and has its own memory space, so multiple processes can run on different CPU cores, fully utilizing the CPU and speeding up execution.\n",
        "Global Interpreter Lock (GIL): Python’s GIL prevents multiple threads from executing Python bytecode simultaneously. Thus, for CPU-bound tasks, multiprocessing allows true parallelism since each process runs in its own Python interpreter.\n",
        "Fault isolation: Processes are independent of each other, so a crash in one process doesn't affect others.'''"
      ]
    },
    {
      "cell_type": "code",
      "source": [
        "# Q2. Describe what a process pool is and how it helps in managing multiple processes efficiently.\n",
        "\n",
        "'''A process pool is a collection of worker processes that can be reused to perform tasks in parallel. Instead of creating and destroying processes for each task (which can be resource-intensive), a process pool keeps a set of processes ready to handle tasks as they come. This is useful for managing resources efficiently and improving performance in parallel programs.\n",
        "\n",
        "Key benefits of a process pool:\n",
        "\n",
        "Efficient management: It reduces the overhead of creating and destroying processes repeatedly.\n",
        "Concurrency: It allows for parallel execution of tasks by distributing them among the available processes.\n",
        "Scalability: The size of the pool can be adjusted based on the number of available CPU cores, improving performance as the workload increases.'''\n"
      ],
      "metadata": {
        "id": "DJSXFxG1jog_"
      },
      "execution_count": null,
      "outputs": []
    },
    {
      "cell_type": "code",
      "source": [
        "# Q3. Explain what multiprocessing is and why it is used in Python programs.\n",
        "\n",
        "'''Multiprocessing in Python refers to the concurrent execution of tasks using multiple processes. It is used in programs that need to perform parallel computation on CPU-bound tasks, taking advantage of multiple CPU cores.\n",
        "\n",
        "Why use multiprocessing:\n",
        "\n",
        "Bypassing GIL: In CPython, the Global Interpreter Lock (GIL) limits the execution of Python bytecode to one thread at a time. Multiprocessing bypasses this issue by creating separate processes that have their own independent memory space and Python interpreter.\n",
        "True parallelism: Each process can run independently on a different CPU core, allowing true parallel execution and improving the performance of CPU-bound operations.\n",
        "Fault tolerance: Since processes are independent, failure in one process doesn't affect others.'''"
      ],
      "metadata": {
        "id": "kE7gvRm7j5Us"
      },
      "execution_count": null,
      "outputs": []
    },
    {
      "cell_type": "code",
      "source": [
        "# Q4. Write a Python program using multithreading where one thread adds numbers to a list, and another thread removes numbers from the list. Implement a mechanism to avoid race conditions using threading.Lock.\n",
        "\n",
        "\n",
        "import threading\n",
        "import time\n",
        "\n",
        "# Shared list and Lock\n",
        "shared_list = []\n",
        "lock = threading.Lock()\n",
        "\n",
        "def add_numbers():\n",
        "    for i in range(5):\n",
        "        with lock:  # Acquire lock before modifying the shared list\n",
        "            shared_list.append(i)\n",
        "            print(f\"Added: {i}\")\n",
        "            time.sleep(0.1)\n",
        "\n",
        "def remove_numbers():\n",
        "    for i in range(5):\n",
        "        with lock:  # Acquire lock before modifying the shared list\n",
        "            if shared_list:\n",
        "                removed = shared_list.pop()\n",
        "                print(f\"Removed: {removed}\")\n",
        "            time.sleep(0.1)\n",
        "\n",
        "# Create threads\n",
        "thread1 = threading.Thread(target=add_numbers)\n",
        "thread2 = threading.Thread(target=remove_numbers)\n",
        "\n",
        "# Start threads\n",
        "thread1.start()\n",
        "thread2.start()\n",
        "\n",
        "# Wait for both threads to finish\n",
        "thread1.join()\n",
        "thread2.join()\n",
        "\n",
        "print(\"Final shared list:\", shared_list)"
      ],
      "metadata": {
        "id": "MIgJu3Ylj841"
      },
      "execution_count": null,
      "outputs": []
    },
    {
      "cell_type": "code",
      "source": [
        "# Q5. Describe the methods and tools available in Python for safely sharing data between threads and processes.\n",
        "\n",
        "'''For Threads:\n",
        "\n",
        "Threading.Lock: Ensures mutual exclusion by allowing only one thread to execute a critical section of code at a time.\n",
        "Queue: A thread-safe queue (from the queue module) allows threads to safely exchange data.\n",
        "Event, Condition, Semaphore: These synchronization primitives help manage communication between threads, ensuring data integrity.\n",
        "For Processes:\n",
        "\n",
        "Manager: The multiprocessing.Manager provides a way to create shared objects (like lists, dictionaries) that can be accessed by multiple processes.\n",
        "Queue (multiprocessing): Allows processes to safely exchange data in a first-in, first-out manner.\n",
        "Pipe: A pipe is a way for processes to communicate through a unidirectional or bidirectional channel.\n",
        "Shared memory: For large data, you can use multiprocessing.Value or Array for sharing data between processes.'''"
      ],
      "metadata": {
        "id": "dQhg2T07kBx0"
      },
      "execution_count": null,
      "outputs": []
    },
    {
      "cell_type": "code",
      "source": [
        "# Q6. Discuss why it’s crucial to handle exceptions in concurrent programs and the techniques available for doing so.\n",
        "\n",
        "'''In concurrent programs, exceptions can be raised in any thread or process, and if not handled properly, they can cause the program to fail or behave unpredictably. Exception handling ensures that the program continues to run smoothly even if an error occurs in one thread or process.\n",
        "\n",
        "Techniques for handling exceptions:\n",
        "\n",
        "Try-except blocks: Wrap critical code sections within try-except blocks to catch and handle exceptions.\n",
        "Thread-safe exception handling: Use threading or multiprocessing mechanisms to ensure that exceptions in threads or processes are communicated to the main thread or process.\n",
        "Logging: Log exceptions in concurrent programs so that they can be analyzed and addressed later.'''"
      ],
      "metadata": {
        "id": "bjTesuzhkduT"
      },
      "execution_count": null,
      "outputs": []
    },
    {
      "cell_type": "code",
      "source": [
        "# Q7. Create a program that uses a thread pool to calculate the factorial of numbers from 1 to 10 concurrently. Use concurrent.futures.ThreadPoolExecutor to manage the threads.\n",
        "\n",
        "from concurrent.futures import ThreadPoolExecutor\n",
        "\n",
        "# Function to calculate factorial\n",
        "def factorial(n):\n",
        "    result = 1\n",
        "    for i in range(1, n + 1):\n",
        "        result *= i\n",
        "    return result\n",
        "\n",
        "# Create a ThreadPoolExecutor\n",
        "with ThreadPoolExecutor() as executor:\n",
        "    results = executor.map(factorial, range(1, 11))\n",
        "\n",
        "# Print the results\n",
        "for num, fact in zip(range(1, 11), results):\n",
        "    print(f\"Factorial of {num} is {fact}\")"
      ],
      "metadata": {
        "id": "NaVh8dlxkgHc"
      },
      "execution_count": null,
      "outputs": []
    },
    {
      "cell_type": "code",
      "source": [
        "# Q8. Create a Python program that uses multiprocessing.Pool to compute the square of numbers from 1 to 10 in parallel. Measure the time taken to perform this computation using a pool of different sizes (e.g., 2, 4, 8 processes).\n",
        "\n",
        "import multiprocessing\n",
        "import time\n",
        "\n",
        "def square(n):\n",
        "    return n * n\n",
        "\n",
        "# Measure the time taken for different pool sizes\n",
        "for pool_size in [2, 4, 8]:\n",
        "    start_time = time.time()\n",
        "\n",
        "    with multiprocessing.Pool(pool_size) as pool:\n",
        "        results = pool.map(square, range(1, 11))\n",
        "\n",
        "    end_time = time.time()\n",
        "    print(f\"Pool size: {pool_size}, Results: {results}, Time taken: {end_time - start_time:.4f} seconds\")"
      ],
      "metadata": {
        "id": "XEddvkh2ki7m"
      },
      "execution_count": null,
      "outputs": []
    }
  ]
}